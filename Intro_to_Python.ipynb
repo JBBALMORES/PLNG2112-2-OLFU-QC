{
  "nbformat": 4,
  "nbformat_minor": 0,
  "metadata": {
    "colab": {
      "provenance": [],
      "authorship_tag": "ABX9TyPdpeIF5txSxL+nR3KgvEKR",
      "include_colab_link": true
    },
    "kernelspec": {
      "name": "python3",
      "display_name": "Python 3"
    },
    "language_info": {
      "name": "python"
    }
  },
  "cells": [
    {
      "cell_type": "markdown",
      "metadata": {
        "id": "view-in-github",
        "colab_type": "text"
      },
      "source": [
        "<a href=\"https://colab.research.google.com/github/JBBALMORES/PLNG2112-2-OLFU-QC/blob/main/Intro_to_Python.ipynb\" target=\"_parent\"><img src=\"https://colab.research.google.com/assets/colab-badge.svg\" alt=\"Open In Colab\"/></a>"
      ]
    },
    {
      "cell_type": "markdown",
      "source": [
        "# Coding in Python\n"
      ],
      "metadata": {
        "id": "XczEtLJv8Ezp"
      }
    },
    {
      "cell_type": "markdown",
      "source": [
        "Python Comments"
      ],
      "metadata": {
        "id": "3rgtz6Lqb3X6"
      }
    },
    {
      "cell_type": "code",
      "source": [
        "# This is a comment\n",
        "print(\"Hello, I'm John Brian Balmores from BSCS 2 - YA - 2!\")"
      ],
      "metadata": {
        "colab": {
          "base_uri": "https://localhost:8080/"
        },
        "id": "1OGMfO8P8uBg",
        "outputId": "8348c848-fa46-46a1-85e2-bf7498f62cf9"
      },
      "execution_count": null,
      "outputs": [
        {
          "output_type": "stream",
          "name": "stdout",
          "text": [
            "Hello, I'm John Brian Balmores\n"
          ]
        }
      ]
    },
    {
      "cell_type": "markdown",
      "source": [
        "Python Variable"
      ],
      "metadata": {
        "id": "_DmqdlSZ-8ry"
      }
    },
    {
      "cell_type": "code",
      "source": [
        "#Single Variable\n",
        "a = 12\n",
        "b = 3\n",
        "\n",
        "#Multiple Variables\n",
        "a,b = 12, 3\n",
        "\n",
        "print(a)\n",
        "print(b)"
      ],
      "metadata": {
        "colab": {
          "base_uri": "https://localhost:8080/"
        },
        "id": "jE66DI-v-_Sw",
        "outputId": "915e3a8b-b0da-4071-cc7a-6715902bfa52"
      },
      "execution_count": null,
      "outputs": [
        {
          "output_type": "stream",
          "name": "stdout",
          "text": [
            "12\n",
            "3\n"
          ]
        }
      ]
    },
    {
      "cell_type": "markdown",
      "source": [
        "Casting"
      ],
      "metadata": {
        "id": "zczaQ4LEYDd5"
      }
    },
    {
      "cell_type": "code",
      "source": [
        "a=\"Brian\"\n",
        "a= int (5)\n",
        "print(a)\n",
        "\n",
        "a = float(100)\n",
        "print(a)"
      ],
      "metadata": {
        "colab": {
          "base_uri": "https://localhost:8080/"
        },
        "id": "YXsXGCubB9jR",
        "outputId": "b9dab31f-0d93-416b-966d-e3be779e7009"
      },
      "execution_count": 4,
      "outputs": [
        {
          "output_type": "stream",
          "name": "stdout",
          "text": [
            "5\n",
            "100.0\n"
          ]
        }
      ]
    },
    {
      "cell_type": "markdown",
      "source": [
        "Type() function"
      ],
      "metadata": {
        "id": "b_axch_xY8-w"
      }
    },
    {
      "cell_type": "code",
      "source": [
        "x = 15\n",
        "y = \"Brian\"\n",
        "z = 100.00\n",
        "a = -155.0013414\n",
        "print(type(x))\n",
        "print(type(y))\n",
        "print(type(z))\n",
        "print(type(a))"
      ],
      "metadata": {
        "colab": {
          "base_uri": "https://localhost:8080/"
        },
        "id": "_rLAisaCY7eh",
        "outputId": "17be5cf5-2e3a-4401-cc5d-2367f16b8265"
      },
      "execution_count": 12,
      "outputs": [
        {
          "output_type": "stream",
          "name": "stdout",
          "text": [
            "<class 'int'>\n",
            "<class 'str'>\n",
            "<class 'float'>\n",
            "<class 'float'>\n"
          ]
        }
      ]
    },
    {
      "cell_type": "markdown",
      "source": [
        "\"Double Quotes\" or 'Single' quotes"
      ],
      "metadata": {
        "id": "qY9xxE3rZpnb"
      }
    },
    {
      "cell_type": "code",
      "source": [
        "x = \"Potato\"\n",
        "y = 'Chips'\n",
        "print(x)\n",
        "print(y)\n"
      ],
      "metadata": {
        "colab": {
          "base_uri": "https://localhost:8080/"
        },
        "id": "4c8w235sZwGI",
        "outputId": "a8d6a9ed-a818-45ab-fe1c-d26adf88efaa"
      },
      "execution_count": 15,
      "outputs": [
        {
          "output_type": "stream",
          "name": "stdout",
          "text": [
            "Potato\n",
            "Chips\n"
          ]
        }
      ]
    },
    {
      "cell_type": "markdown",
      "source": [
        "Case Sensitive"
      ],
      "metadata": {
        "id": "83KVK8_6aHzx"
      }
    },
    {
      "cell_type": "code",
      "source": [
        "age = 15\n",
        "Age = 30\n",
        "print(age)\n",
        "print(Age)"
      ],
      "metadata": {
        "colab": {
          "base_uri": "https://localhost:8080/"
        },
        "id": "X0YOawxyaJtB",
        "outputId": "8fa99bb1-f63a-4ebd-e3ee-582061650748"
      },
      "execution_count": 16,
      "outputs": [
        {
          "output_type": "stream",
          "name": "stdout",
          "text": [
            "15\n",
            "30\n"
          ]
        }
      ]
    },
    {
      "cell_type": "markdown",
      "source": [
        "Multiple Variables"
      ],
      "metadata": {
        "id": "37ly-t6aaXxZ"
      }
    },
    {
      "cell_type": "code",
      "source": [
        "name, age, gender = \"John Brian T. Balmores\", \"19\", \"Male\"\n",
        "print(name)\n",
        "print(age)\n",
        "print(gender)"
      ],
      "metadata": {
        "colab": {
          "base_uri": "https://localhost:8080/"
        },
        "id": "JGaIZIsWaZYJ",
        "outputId": "3b56ae3a-75d1-4214-cc63-ccb69047a4df"
      },
      "execution_count": 18,
      "outputs": [
        {
          "output_type": "stream",
          "name": "stdout",
          "text": [
            "John Brian T. Balmores\n",
            "19\n",
            "Male\n"
          ]
        }
      ]
    },
    {
      "cell_type": "markdown",
      "source": [
        "One Value to Multiple Variables"
      ],
      "metadata": {
        "id": "M16oEjwJatsA"
      }
    },
    {
      "cell_type": "code",
      "source": [
        "a = b = c = \"Fries\"\n",
        "print(a)\n",
        "print(b)\n",
        "print(c)"
      ],
      "metadata": {
        "colab": {
          "base_uri": "https://localhost:8080/"
        },
        "id": "_0ok3AL2a-GJ",
        "outputId": "23fd28b3-9b44-4255-97cd-d52a911355b7"
      },
      "execution_count": 20,
      "outputs": [
        {
          "output_type": "stream",
          "name": "stdout",
          "text": [
            "Fries\n",
            "Fries\n",
            "Fries\n"
          ]
        }
      ]
    },
    {
      "cell_type": "markdown",
      "source": [
        "Output Variables"
      ],
      "metadata": {
        "id": "a_GS4CEobUUv"
      }
    },
    {
      "cell_type": "code",
      "source": [
        "d = \"Our Lady \"\n",
        "e = \"of Fatima \"\n",
        "f = \"University\"\n",
        "g = d + e + f\n",
        "print(g)"
      ],
      "metadata": {
        "colab": {
          "base_uri": "https://localhost:8080/"
        },
        "id": "65jueiIfbYDh",
        "outputId": "1f1c3e62-ec64-40ee-86b7-317ea90acb0b"
      },
      "execution_count": 21,
      "outputs": [
        {
          "output_type": "stream",
          "name": "stdout",
          "text": [
            "Our Lady of Fatima University\n"
          ]
        }
      ]
    },
    {
      "cell_type": "markdown",
      "source": [
        "Arithmetic Operations"
      ],
      "metadata": {
        "id": "oagHqipcb8LB"
      }
    },
    {
      "cell_type": "code",
      "source": [
        "num1 = 10\n",
        "num2 = 33\n",
        "num3 = 57\n",
        "print(num1 + num2 + num3)"
      ],
      "metadata": {
        "colab": {
          "base_uri": "https://localhost:8080/"
        },
        "id": "62A8jvyKcBjy",
        "outputId": "0048b1f2-4342-4337-a296-b1b27ea55cd8"
      },
      "execution_count": 22,
      "outputs": [
        {
          "output_type": "stream",
          "name": "stdout",
          "text": [
            "100\n"
          ]
        }
      ]
    },
    {
      "cell_type": "markdown",
      "source": [
        "Assignment Operators"
      ],
      "metadata": {
        "id": "Q0ESpI4ocgqS"
      }
    }
  ]
}